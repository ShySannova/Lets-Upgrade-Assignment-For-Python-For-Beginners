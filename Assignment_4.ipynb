{
  "nbformat": 4,
  "nbformat_minor": 0,
  "metadata": {
    "colab": {
      "name": "Assignment 4.ipynb",
      "provenance": [],
      "authorship_tag": "ABX9TyOsug1IqHyh8Fq7l1PtmpRV",
      "include_colab_link": true
    },
    "kernelspec": {
      "name": "python3",
      "display_name": "Python 3"
    },
    "language_info": {
      "name": "python"
    }
  },
  "cells": [
    {
      "cell_type": "markdown",
      "metadata": {
        "id": "view-in-github",
        "colab_type": "text"
      },
      "source": [
        "<a href=\"https://colab.research.google.com/github/ShySannova/Lets-Upgrade-Assignment-For-Python-For-Beginners/blob/main/Assignment_4.ipynb\" target=\"_parent\"><img src=\"https://colab.research.google.com/assets/colab-badge.svg\" alt=\"Open In Colab\"/></a>"
      ]
    },
    {
      "cell_type": "code",
      "metadata": {
        "colab": {
          "base_uri": "https://localhost:8080/"
        },
        "id": "ZpRRAlkbk6PL",
        "outputId": "d2ade34c-3029-4186-9b02-38c43f6a6a23"
      },
      "source": [
        "#Finding The Number Is Prime Or Not\n",
        "number = int(input(\"Enter Any Number: \"))\n",
        "if number >1:\n",
        "  for i in range(2, number):\n",
        "    if (number % i) ==0:\n",
        "      print(number, \"is not a prime number\")\n",
        "      print(i,\"times\",number//i,\"is\",number)\n",
        "      break\n",
        "  else:\n",
        "      print(number, \"is a prime number\")\n",
        "else:\n",
        "  print(number, \"is a not prime number\")"
      ],
      "execution_count": null,
      "outputs": [
        {
          "output_type": "stream",
          "text": [
            "Enter Any Number: 15\n",
            "15 is not a prime number\n",
            "3 times 5 is 15\n"
          ],
          "name": "stdout"
        }
      ]
    }
  ]
}