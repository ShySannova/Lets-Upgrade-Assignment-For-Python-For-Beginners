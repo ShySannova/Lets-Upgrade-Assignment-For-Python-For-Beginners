{
  "nbformat": 4,
  "nbformat_minor": 0,
  "metadata": {
    "colab": {
      "name": "Assignment 1.ipynb",
      "provenance": [],
      "authorship_tag": "ABX9TyN7BB7Q9Seb2Qr6thF/lR0P",
      "include_colab_link": true
    },
    "kernelspec": {
      "name": "python3",
      "display_name": "Python 3"
    },
    "language_info": {
      "name": "python"
    }
  },
  "cells": [
    {
      "cell_type": "markdown",
      "metadata": {
        "id": "view-in-github",
        "colab_type": "text"
      },
      "source": [
        "<a href=\"https://colab.research.google.com/github/ShySannova/Lets-Upgrade-Assignment-For-Python-For-Beginners/blob/main/Assignment_1.ipynb\" target=\"_parent\"><img src=\"https://colab.research.google.com/assets/colab-badge.svg\" alt=\"Open In Colab\"/></a>"
      ]
    },
    {
      "cell_type": "code",
      "metadata": {
        "id": "i31ZxWb6qcAt",
        "colab": {
          "base_uri": "https://localhost:8080/"
        },
        "outputId": "9369a823-9008-4740-9c3d-89310b7f06da"
      },
      "source": [
        "#Calculator\n",
        "a=int(input(\"Enter First Number: \"))\n",
        "b=int(input(\"Enter Second Number: \"))\n",
        "sum=a+b\n",
        "sub=a-b\n",
        "mul=a*b\n",
        "div1=a//b\n",
        "div2=a/b\n",
        "print(\"Addition: \",sum)\n",
        "print(\"Subtraction: \",sub)\n",
        "print(\"Multiplication: \",mul)\n",
        "print(\"Integer Division: \",div1)\n",
        "print(\"Floating Point Division: \",div2)"
      ],
      "execution_count": 1,
      "outputs": [
        {
          "output_type": "stream",
          "text": [
            "Enter First Number: 10\n",
            "Enter Second Number: 3\n",
            "Addition:  13\n",
            "Subtraction:  7\n",
            "Multiplication:  30\n",
            "Integer Division:  3\n",
            "Floating Point Division:  3.3333333333333335\n"
          ],
          "name": "stdout"
        }
      ]
    }
  ]
}