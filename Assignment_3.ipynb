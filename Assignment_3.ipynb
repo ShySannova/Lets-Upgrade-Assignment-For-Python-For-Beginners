{
  "nbformat": 4,
  "nbformat_minor": 0,
  "metadata": {
    "colab": {
      "name": "Assignment 3.ipynb",
      "provenance": [],
      "authorship_tag": "ABX9TyMmb4BU7ZyqmIH4m8DEv6aI",
      "include_colab_link": true
    },
    "kernelspec": {
      "name": "python3",
      "display_name": "Python 3"
    },
    "language_info": {
      "name": "python"
    }
  },
  "cells": [
    {
      "cell_type": "markdown",
      "metadata": {
        "id": "view-in-github",
        "colab_type": "text"
      },
      "source": [
        "<a href=\"https://colab.research.google.com/github/ShySannova/Lets-Upgrade-Assignment-For-Python-For-Beginners/blob/main/Assignment_3.ipynb\" target=\"_parent\"><img src=\"https://colab.research.google.com/assets/colab-badge.svg\" alt=\"Open In Colab\"/></a>"
      ]
    },
    {
      "cell_type": "code",
      "metadata": {
        "id": "zrqjrUA52bh1",
        "colab": {
          "base_uri": "https://localhost:8080/"
        },
        "outputId": "a8f232fd-1cdf-41b5-aee4-ea045d8578c2"
      },
      "source": [
        "#Plane Landing Instruction At Different Altitude\n",
        "Altitude=int(input(\"Enter Your Altitude: \"))\n",
        "if Altitude<=1000:\n",
        "  print(\"Safe To Land\")\n",
        "elif Altitude<=5000:\n",
        "  print(\"Bring Down To 1000ft And Then Land\")\n",
        "else:\n",
        "  print(\"Go Around And Try Again\")"
      ],
      "execution_count": null,
      "outputs": [
        {
          "output_type": "stream",
          "text": [
            "Enter Your Altitude: 6500\n",
            "Go Around And Try Again\n"
          ],
          "name": "stdout"
        }
      ]
    }
  ]
}