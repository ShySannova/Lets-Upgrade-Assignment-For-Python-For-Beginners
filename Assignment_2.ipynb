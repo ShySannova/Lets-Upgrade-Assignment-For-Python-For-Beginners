{
  "nbformat": 4,
  "nbformat_minor": 0,
  "metadata": {
    "colab": {
      "name": "Assignment 2.ipynb",
      "provenance": [],
      "collapsed_sections": [],
      "authorship_tag": "ABX9TyPRKBmno4rqjsjCQRd/t5F9",
      "include_colab_link": true
    },
    "kernelspec": {
      "name": "python3",
      "display_name": "Python 3"
    },
    "language_info": {
      "name": "python"
    }
  },
  "cells": [
    {
      "cell_type": "markdown",
      "metadata": {
        "id": "view-in-github",
        "colab_type": "text"
      },
      "source": [
        "<a href=\"https://colab.research.google.com/github/ShySannova/Lets-Upgrade-Assignment-For-Python-For-Beginners/blob/main/Assignment_2.ipynb\" target=\"_parent\"><img src=\"https://colab.research.google.com/assets/colab-badge.svg\" alt=\"Open In Colab\"/></a>"
      ]
    },
    {
      "cell_type": "code",
      "metadata": {
        "colab": {
          "base_uri": "https://localhost:8080/"
        },
        "id": "sPEa3Koeu_Ut",
        "outputId": "2a4f8141-52d8-486d-8cd0-b44bf3bde29e"
      },
      "source": [
        "#Finding Random Name As Winner Form Lottery Participants\n",
        "import random\n",
        "\n",
        "MaxTicketsAvailable =int(input(\"Enter The Max Tickets Available: \"))\n",
        "\n",
        "participants = []\n",
        "\n",
        "for temp in range(MaxTicketsAvailable):\n",
        "  st = \"Enter The Participant Name-\"+ str(temp+1) + \": \"\n",
        "  name = input(st)\n",
        "  participants.append(name)\n",
        "\n",
        "print(\"All Our Participants : \",participants)\n",
        "\n",
        "n = random.randint(0,MaxTicketsAvailable-1)\n",
        "\n",
        "print(\"Winner Of The Lottery : \",participants[n])"
      ],
      "execution_count": 1,
      "outputs": [
        {
          "output_type": "stream",
          "text": [
            "Enter The Max Tickets Available: 3\n",
            "Enter The Participant Name-1: Google \n",
            "Enter The Participant Name-2: Youtube\n",
            "Enter The Participant Name-3: Netflix\n",
            "All Our Participants :  ['Google ', 'Youtube', 'Netflix']\n",
            "Winner Of The Lottery :  Netflix\n"
          ],
          "name": "stdout"
        }
      ]
    }
  ]
}